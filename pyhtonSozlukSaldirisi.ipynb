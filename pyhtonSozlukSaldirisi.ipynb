{
 "cells": [
  {
   "cell_type": "code",
   "execution_count": 34,
   "id": "e9945d62",
   "metadata": {},
   "outputs": [
    {
     "name": "stdout",
     "output_type": "stream",
     "text": [
      "Kırılacak parolayı girin: Ümit Rençber\n",
      "\n",
      "Parola bulundu! => 'Ümit Rençber'\n",
      "Deneme sayısı: 778130\n",
      "Süre: 0.1682 saniye\n"
     ]
    }
   ],
   "source": [
    "import time\n",
    "\n",
    "# Kullanıcıdan hedef parola alınır\n",
    "target_password = input(\"Kırılacak parolayı girin: \")\n",
    "\n",
    "# Başlangıç zamanı\n",
    "start_time = time.time()\n",
    "\n",
    "# Wordlist dosyasını satır satır oku\n",
    "found = False\n",
    "with open(\"wordlist.txt\", \"r\", encoding=\"utf-8\") as file:\n",
    "    for attempt_num, line in enumerate(file, start=1):\n",
    "        guess = line.strip()\n",
    "        if guess == target_password:\n",
    "            found = True\n",
    "            break\n",
    "\n",
    "# Bitiş zamanı\n",
    "end_time = time.time()\n",
    "\n",
    "# Sonuç\n",
    "if found:\n",
    "    print(f\"\\nParola bulundu! => '{guess}'\")\n",
    "    print(f\"Deneme sayısı: {attempt_num}\")\n",
    "    print(f\"Süre: {round(end_time - start_time, 4)} saniye\")\n",
    "else:\n",
    "    print(\"\\nParola wordlist içinde bulunamadı.\")\n",
    "    print(f\"Toplam deneme sayısı: {attempt_num}\")\n",
    "    print(f\"Süre: {round(end_time - start_time, 4)} saniye\")\n"
   ]
  }
 ],
 "metadata": {
  "kernelspec": {
   "display_name": "Python 3 (ipykernel)",
   "language": "python",
   "name": "python3"
  },
  "language_info": {
   "codemirror_mode": {
    "name": "ipython",
    "version": 3
   },
   "file_extension": ".py",
   "mimetype": "text/x-python",
   "name": "python",
   "nbconvert_exporter": "python",
   "pygments_lexer": "ipython3",
   "version": "3.11.5"
  }
 },
 "nbformat": 4,
 "nbformat_minor": 5
}
